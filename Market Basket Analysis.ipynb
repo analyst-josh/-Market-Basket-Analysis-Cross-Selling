{
 "cells": [
  {
   "cell_type": "markdown",
   "id": "652ba238-ad24-4167-ae7f-a09d532be8c3",
   "metadata": {},
   "source": [
    "Project 2: Market Basket Analysis & Cross-Selling\n",
    "Dataset: Retail Product Transaction (30k rows)"
   ]
  },
  {
   "cell_type": "code",
   "execution_count": 39,
   "id": "61cf61ba-e0d6-4fbb-a4e7-4cbdb5be003c",
   "metadata": {},
   "outputs": [
    {
     "name": "stdout",
     "output_type": "stream",
     "text": [
      "<class 'pandas.core.frame.DataFrame'>\n",
      "RangeIndex: 30000 entries, 0 to 29999\n",
      "Data columns (total 4 columns):\n",
      " #   Column         Non-Null Count  Dtype \n",
      "---  ------         --------------  ----- \n",
      " 0   TransactionID  30000 non-null  int64 \n",
      " 1   CustomerID     30000 non-null  object\n",
      " 2   Products       30000 non-null  object\n",
      " 3   Timestamp      30000 non-null  object\n",
      "dtypes: int64(1), object(3)\n",
      "memory usage: 937.6+ KB\n",
      "None\n",
      "   TransactionID CustomerID  \\\n",
      "0              1       C546   \n",
      "1              2       C385   \n",
      "2              3       C292   \n",
      "3              4       C863   \n",
      "4              5       C171   \n",
      "\n",
      "                                                                                      Products  \\\n",
      "0  Dish Sponge, Flatbread with Meat, Chips, Orange, Butter, Sausage, Cucumber, Rice, Ice Cream   \n",
      "1                                                   Onion, Juice, Flatbread with Meat, Chicken   \n",
      "2                                                      Egg, Flatbread with Meat, Banana, Pizza   \n",
      "3                                  Ice Cream, Soda, Orange, Potato, Cereal, Chocolate, Cracker   \n",
      "4                                     Ice Cream, Soap, Shampoo, Chicken, Banana, Beans, Cheese   \n",
      "\n",
      "    Timestamp  \n",
      "0  2025-02-18  \n",
      "1  2025-04-26  \n",
      "2  2025-04-25  \n",
      "3  2025-01-14  \n",
      "4  2025-04-20  \n",
      "       TransactionID CustomerID  \\\n",
      "29995          29996       C381   \n",
      "29996          29997       C297   \n",
      "29997          29998       C998   \n",
      "29998          29999       C530   \n",
      "29999          30000       C750   \n",
      "\n",
      "                                                                                       Products  \\\n",
      "29995                       Potato, Beans, Ice Cream, Soap, Rice, Yogurt, Tomato, Juice, Lentil   \n",
      "29996                                              Sausage, Lentil, Soap, Soda, Strawberry, Egg   \n",
      "29997                        Apple, Fish, Cereal, Cookie, Pizza, Water, Tomato, Chocolate, Soda   \n",
      "29998  Chickpeas, Shampoo, Onion, Yogurt, Cereal, Flatbread with Meat, Juice, Egg, Lentil, Rice   \n",
      "29999                                                                  Egg, Apple, Fish, Cereal   \n",
      "\n",
      "        Timestamp  \n",
      "29995  2025-03-06  \n",
      "29996  2025-03-24  \n",
      "29997  2025-01-26  \n",
      "29998  2025-01-12  \n",
      "29999  2025-01-27  \n",
      "       TransactionID\n",
      "count   30000.000000\n",
      "mean    15000.500000\n",
      "std      8660.398374\n",
      "min         1.000000\n",
      "25%      7500.750000\n",
      "50%     15000.500000\n",
      "75%     22500.250000\n",
      "max     30000.000000\n"
     ]
    }
   ],
   "source": [
    "import pandas as pd\n",
    "\n",
    "df = pd.read_csv(\"data/products.csv\")\n",
    "\n",
    "print(df.info())\n",
    " \n",
    "print(df.head(5))\n",
    " \n",
    "print(df.tail(5))\n",
    " \n",
    "print(df.describe())"
   ]
  },
  {
   "cell_type": "code",
   "execution_count": 40,
   "id": "d154aaa5-91d0-4171-93cd-18ebd0bed18f",
   "metadata": {},
   "outputs": [
    {
     "data": {
      "text/plain": [
       "1000"
      ]
     },
     "execution_count": 40,
     "metadata": {},
     "output_type": "execute_result"
    }
   ],
   "source": [
    "df[\"CustomerID\"].nunique()"
   ]
  },
  {
   "cell_type": "code",
   "execution_count": 41,
   "id": "187d87d9-1ef7-4000-b4a6-c22b3c329b04",
   "metadata": {},
   "outputs": [
    {
     "data": {
      "text/plain": [
       "29889"
      ]
     },
     "execution_count": 41,
     "metadata": {},
     "output_type": "execute_result"
    }
   ],
   "source": [
    "df[\"Products\"].nunique()"
   ]
  },
  {
   "cell_type": "markdown",
   "id": "04a087ff-1642-487f-91a3-83d4946c01f8",
   "metadata": {},
   "source": [
    "dataset has 1000 customers, and 29889 product combinations"
   ]
  },
  {
   "cell_type": "markdown",
   "id": "818b7683-3737-448d-8058-f4030dcc514f",
   "metadata": {},
   "source": [
    "Preparing Data for Apriori- binary matrix"
   ]
  },
  {
   "cell_type": "code",
   "execution_count": 42,
   "id": "5a2d9fc8-6954-402a-a465-912350fa1f4f",
   "metadata": {},
   "outputs": [],
   "source": [
    "df[\"ProductList\"] = df[\"Products\"].str.split(\",\") \n",
    "df[\"ProductList\"] = df[\"ProductList\"].apply(lambda x: [i.strip() for i in x])"
   ]
  },
  {
   "cell_type": "code",
   "execution_count": 43,
   "id": "1a9c4fd8-e475-442e-986d-7c84a1bc8909",
   "metadata": {},
   "outputs": [
    {
     "name": "stdout",
     "output_type": "stream",
     "text": [
      "   TransactionID  \\\n",
      "0              1   \n",
      "1              2   \n",
      "2              3   \n",
      "3              4   \n",
      "4              5   \n",
      "\n",
      "                                                                                     ProductList  \n",
      "0  [Dish Sponge, Flatbread with Meat, Chips, Orange, Butter, Sausage, Cucumber, Rice, Ice Cream]  \n",
      "1                                                   [Onion, Juice, Flatbread with Meat, Chicken]  \n",
      "2                                                      [Egg, Flatbread with Meat, Banana, Pizza]  \n",
      "3                                  [Ice Cream, Soda, Orange, Potato, Cereal, Chocolate, Cracker]  \n",
      "4                                     [Ice Cream, Soap, Shampoo, Chicken, Banana, Beans, Cheese]  \n"
     ]
    }
   ],
   "source": [
    "print(df[[\"TransactionID\", \"ProductList\"]].head())"
   ]
  },
  {
   "cell_type": "code",
   "execution_count": 44,
   "id": "4a8c2d09-e8fe-4748-bfea-d03d771e34ff",
   "metadata": {},
   "outputs": [],
   "source": [
    "exploded = df.explode(\"ProductList\")"
   ]
  },
  {
   "cell_type": "code",
   "execution_count": 45,
   "id": "e69aa830-5779-4756-b734-d41f1243bd5e",
   "metadata": {},
   "outputs": [
    {
     "name": "stdout",
     "output_type": "stream",
     "text": [
      "   TransactionID CustomerID  \\\n",
      "0              1       C546   \n",
      "0              1       C546   \n",
      "0              1       C546   \n",
      "0              1       C546   \n",
      "0              1       C546   \n",
      "0              1       C546   \n",
      "0              1       C546   \n",
      "0              1       C546   \n",
      "0              1       C546   \n",
      "1              2       C385   \n",
      "\n",
      "                                                                                      Products  \\\n",
      "0  Dish Sponge, Flatbread with Meat, Chips, Orange, Butter, Sausage, Cucumber, Rice, Ice Cream   \n",
      "0  Dish Sponge, Flatbread with Meat, Chips, Orange, Butter, Sausage, Cucumber, Rice, Ice Cream   \n",
      "0  Dish Sponge, Flatbread with Meat, Chips, Orange, Butter, Sausage, Cucumber, Rice, Ice Cream   \n",
      "0  Dish Sponge, Flatbread with Meat, Chips, Orange, Butter, Sausage, Cucumber, Rice, Ice Cream   \n",
      "0  Dish Sponge, Flatbread with Meat, Chips, Orange, Butter, Sausage, Cucumber, Rice, Ice Cream   \n",
      "0  Dish Sponge, Flatbread with Meat, Chips, Orange, Butter, Sausage, Cucumber, Rice, Ice Cream   \n",
      "0  Dish Sponge, Flatbread with Meat, Chips, Orange, Butter, Sausage, Cucumber, Rice, Ice Cream   \n",
      "0  Dish Sponge, Flatbread with Meat, Chips, Orange, Butter, Sausage, Cucumber, Rice, Ice Cream   \n",
      "0  Dish Sponge, Flatbread with Meat, Chips, Orange, Butter, Sausage, Cucumber, Rice, Ice Cream   \n",
      "1                                                   Onion, Juice, Flatbread with Meat, Chicken   \n",
      "\n",
      "    Timestamp          ProductList  \n",
      "0  2025-02-18          Dish Sponge  \n",
      "0  2025-02-18  Flatbread with Meat  \n",
      "0  2025-02-18                Chips  \n",
      "0  2025-02-18               Orange  \n",
      "0  2025-02-18               Butter  \n",
      "0  2025-02-18              Sausage  \n",
      "0  2025-02-18             Cucumber  \n",
      "0  2025-02-18                 Rice  \n",
      "0  2025-02-18            Ice Cream  \n",
      "1  2025-04-26                Onion  \n"
     ]
    }
   ],
   "source": [
    "print(exploded.head(10))"
   ]
  },
  {
   "cell_type": "markdown",
   "id": "9eb9f4ac-364b-4059-8bac-1ac2f8501b05",
   "metadata": {},
   "source": [
    "basket matrix"
   ]
  },
  {
   "cell_type": "code",
   "execution_count": 46,
   "id": "5ad255ff-f5d4-478a-8fc7-51000d3f0af7",
   "metadata": {},
   "outputs": [],
   "source": [
    "basket = exploded.groupby([\"TransactionID\", \"ProductList\"])[\"ProductList\"].count().unstack().fillna(0)\n",
    "basket = basket.astype(bool).astype(int)"
   ]
  },
  {
   "cell_type": "code",
   "execution_count": 47,
   "id": "e04523bb-9a68-4232-a01c-f0e037fa11ad",
   "metadata": {},
   "outputs": [
    {
     "name": "stdout",
     "output_type": "stream",
     "text": [
      "ProductList    Apple  Banana  Beans  Bread  Butter  Cereal  Cheese  Chicken  \\\n",
      "TransactionID                                                                 \n",
      "1                  0       0      0      0       1       0       0        0   \n",
      "2                  0       0      0      0       0       0       0        1   \n",
      "3                  0       1      0      0       0       0       0        0   \n",
      "4                  0       0      0      0       0       1       0        0   \n",
      "5                  0       1      1      0       0       0       1        1   \n",
      "\n",
      "ProductList    Chickpeas  Chips  ...  Potato  Rice  Sausage  Shampoo  Soap  \\\n",
      "TransactionID                    ...                                         \n",
      "1                      0      1  ...       0     1        1        0     0   \n",
      "2                      0      0  ...       0     0        0        0     0   \n",
      "3                      0      0  ...       0     0        0        0     0   \n",
      "4                      0      0  ...       1     0        0        0     0   \n",
      "5                      0      0  ...       0     0        0        1     1   \n",
      "\n",
      "ProductList    Soda  Strawberry  Tomato  Water  Yogurt  \n",
      "TransactionID                                           \n",
      "1                 0           0       0      0       0  \n",
      "2                 0           0       0      0       0  \n",
      "3                 0           0       0      0       0  \n",
      "4                 1           0       0      0       0  \n",
      "5                 0           0       0      0       0  \n",
      "\n",
      "[5 rows x 40 columns]\n"
     ]
    }
   ],
   "source": [
    "print(basket.head())"
   ]
  },
  {
   "cell_type": "code",
   "execution_count": 48,
   "id": "e31cd425-26de-44e1-9429-a66531ae7eaf",
   "metadata": {},
   "outputs": [],
   "source": [
    "basket = basket.astype(bool)"
   ]
  },
  {
   "cell_type": "markdown",
   "id": "f8d3f936-0b40-47a9-a671-979b347788c5",
   "metadata": {},
   "source": [
    "Apriori Algorithm"
   ]
  },
  {
   "cell_type": "code",
   "execution_count": 49,
   "id": "46d79dd4-b150-416f-aa3c-40580a601fb0",
   "metadata": {},
   "outputs": [
    {
     "name": "stdout",
     "output_type": "stream",
     "text": [
      "     antecedents consequents  antecedent support  consequent support  \\\n",
      "173       (Milk)    (Cereal)            0.162667            0.232733   \n",
      "172     (Cereal)      (Milk)            0.232733            0.162667   \n",
      "159  (Chocolate)    (Cereal)            0.160800            0.232733   \n",
      "165   (Cucumber)    (Cereal)            0.159933            0.232733   \n",
      "155     (Cheese)    (Cereal)            0.165267            0.232733   \n",
      "129     (Butter)    (Cereal)            0.162033            0.232733   \n",
      "182       (Soda)    (Cereal)            0.165800            0.232733   \n",
      "175      (Onion)    (Cereal)            0.162400            0.232733   \n",
      "156      (Chips)    (Cereal)            0.161700            0.232733   \n",
      "185     (Tomato)    (Cereal)            0.162567            0.232733   \n",
      "\n",
      "      support  confidence      lift  representativity  leverage  conviction  \\\n",
      "173  0.095067    0.584426  2.511141               1.0  0.057209    1.846283   \n",
      "172  0.095067    0.408479  2.511141               1.0  0.057209    1.415560   \n",
      "159  0.038933    0.242123  1.040344               1.0  0.001510    1.012389   \n",
      "165  0.038600    0.241351  1.037026               1.0  0.001378    1.011359   \n",
      "155  0.039733    0.240420  1.033026               1.0  0.001270    1.010119   \n",
      "129  0.038733    0.239045  1.027122               1.0  0.001023    1.008295   \n",
      "182  0.039400    0.237636  1.021064               1.0  0.000813    1.006430   \n",
      "175  0.038433    0.236658  1.016865               1.0  0.000637    1.005142   \n",
      "156  0.038233    0.236446  1.015953               1.0  0.000600    1.004862   \n",
      "185  0.038300    0.235596  1.012299               1.0  0.000465    1.003745   \n",
      "\n",
      "     zhangs_metric   jaccard  certainty  kulczynski  \n",
      "173       0.718680  0.316537   0.458371    0.496453  \n",
      "172       0.784310  0.316537   0.293566    0.496453  \n",
      "159       0.046210  0.109795   0.012237    0.204705  \n",
      "165       0.042502  0.109019   0.011231    0.203603  \n",
      "155       0.038300  0.110904   0.010018    0.205572  \n",
      "129       0.031511  0.108791   0.008227    0.202737  \n",
      "182       0.024730  0.109709   0.006389    0.203464  \n",
      "175       0.019801  0.107747   0.005116    0.200899  \n",
      "156       0.018731  0.107337   0.004839    0.200363  \n",
      "185       0.014508  0.107283   0.003731    0.200081  \n"
     ]
    }
   ],
   "source": [
    "from mlxtend.frequent_patterns import apriori, association_rules\n",
    "\n",
    "frequent_itemsets = apriori(basket, min_support=0.02, use_colnames=True)\n",
    "rules = association_rules(frequent_itemsets, metric=\"lift\", min_threshold=1.0)\n",
    "\n",
    "rules = rules.sort_values(by=\"confidence\", ascending=False)\n",
    "\n",
    "\n",
    "print(rules.head(10))\n"
   ]
  },
  {
   "cell_type": "code",
   "execution_count": 50,
   "id": "5cff2ac9-b12d-4057-b335-b8491d2467db",
   "metadata": {},
   "outputs": [],
   "source": [
    "pd.set_option(\"display.max_colwidth\", None)"
   ]
  },
  {
   "cell_type": "code",
   "execution_count": 51,
   "id": "51a7feb8-8a51-4213-97fc-2c6d9ca208fb",
   "metadata": {},
   "outputs": [
    {
     "name": "stdout",
     "output_type": "stream",
     "text": [
      "Total rules generated: 724\n"
     ]
    }
   ],
   "source": [
    "print(f\"Total rules generated: {len(rules)}\")"
   ]
  },
  {
   "cell_type": "code",
   "execution_count": 52,
   "id": "4f3e8fe8-2b2f-4479-8040-84475881c5e1",
   "metadata": {},
   "outputs": [],
   "source": [
    "rules_clean = rules[[\n",
    "    'antecedents',\n",
    "    'consequents',\n",
    "    'support',\n",
    "    'confidence',\n",
    "    'lift'\n",
    "]]\n"
   ]
  },
  {
   "cell_type": "code",
   "execution_count": 53,
   "id": "97cae74b-39dd-404c-8f8d-c66b48d815d7",
   "metadata": {},
   "outputs": [
    {
     "name": "stderr",
     "output_type": "stream",
     "text": [
      "C:\\Users\\JOSHUA\\AppData\\Local\\Temp\\ipykernel_24564\\1257458078.py:1: SettingWithCopyWarning: \n",
      "A value is trying to be set on a copy of a slice from a DataFrame.\n",
      "Try using .loc[row_indexer,col_indexer] = value instead\n",
      "\n",
      "See the caveats in the documentation: https://pandas.pydata.org/pandas-docs/stable/user_guide/indexing.html#returning-a-view-versus-a-copy\n",
      "  rules_clean['antecedents'] = rules_clean['antecedents'].apply(lambda x: ', '.join(list(x)))\n",
      "C:\\Users\\JOSHUA\\AppData\\Local\\Temp\\ipykernel_24564\\1257458078.py:2: SettingWithCopyWarning: \n",
      "A value is trying to be set on a copy of a slice from a DataFrame.\n",
      "Try using .loc[row_indexer,col_indexer] = value instead\n",
      "\n",
      "See the caveats in the documentation: https://pandas.pydata.org/pandas-docs/stable/user_guide/indexing.html#returning-a-view-versus-a-copy\n",
      "  rules_clean['consequents'] = rules_clean['consequents'].apply(lambda x: ', '.join(list(x)))\n"
     ]
    }
   ],
   "source": [
    "rules_clean['antecedents'] = rules_clean['antecedents'].apply(lambda x: ', '.join(list(x)))\n",
    "rules_clean['consequents'] = rules_clean['consequents'].apply(lambda x: ', '.join(list(x)))\n"
   ]
  },
  {
   "cell_type": "code",
   "execution_count": 54,
   "id": "35144efd-bb59-4f5e-9a6d-e8d9e4b4c1e2",
   "metadata": {},
   "outputs": [
    {
     "name": "stdout",
     "output_type": "stream",
     "text": [
      "    antecedents consequents   support  confidence      lift\n",
      "173        Milk      Cereal  0.095067    0.584426  2.511141\n",
      "172      Cereal        Milk  0.095067    0.408479  2.511141\n",
      "159   Chocolate      Cereal  0.038933    0.242123  1.040344\n",
      "165    Cucumber      Cereal  0.038600    0.241351  1.037026\n",
      "155      Cheese      Cereal  0.039733    0.240420  1.033026\n",
      "129      Butter      Cereal  0.038733    0.239045  1.027122\n",
      "182        Soda      Cereal  0.039400    0.237636  1.021064\n",
      "175       Onion      Cereal  0.038433    0.236658  1.016865\n",
      "156       Chips      Cereal  0.038233    0.236446  1.015953\n",
      "185      Tomato      Cereal  0.038300    0.235596  1.012299\n"
     ]
    }
   ],
   "source": [
    "print(rules_clean.head(10))"
   ]
  },
  {
   "cell_type": "code",
   "execution_count": 55,
   "id": "c2e3fe29-ca97-4064-92f9-1f9180f6a714",
   "metadata": {},
   "outputs": [],
   "source": [
    "rules.to_csv(\"data/market_basket_rules.csv\", index=False)"
   ]
  },
  {
   "cell_type": "code",
   "execution_count": 56,
   "id": "2ade8106-2b4f-4c7e-a26f-e074c15a121b",
   "metadata": {},
   "outputs": [],
   "source": [
    "frequent_itemsets.to_csv(\"data/frequent_itemsets.csv\", index=False)"
   ]
  },
  {
   "cell_type": "code",
   "execution_count": 57,
   "id": "9d589143-6d28-4fd3-97eb-3c85964b52af",
   "metadata": {},
   "outputs": [],
   "source": [
    "import pandas as pd\n",
    "\n",
    "fi = pd.read_csv(\"data/frequent_itemsets.csv\")\n"
   ]
  },
  {
   "cell_type": "code",
   "execution_count": 58,
   "id": "ec8cc35b-2971-4f2e-8ea5-295ffcac01ef",
   "metadata": {},
   "outputs": [],
   "source": [
    "fi[\"itemsets\"] = fi[\"itemsets\"].apply(lambda x: x.replace(\"frozenset(\", \"\").replace(\"})\", \"}\").replace(\"{\", \"\").replace(\"}\", \"\").replace(\"'\", \"\"))"
   ]
  },
  {
   "cell_type": "code",
   "execution_count": 59,
   "id": "9326fa8f-3d30-466d-9966-13db96b71c46",
   "metadata": {},
   "outputs": [
    {
     "name": "stdout",
     "output_type": "stream",
     "text": [
      "    support itemsets\n",
      "0  0.160467    Apple\n",
      "1  0.163033   Banana\n",
      "2  0.164967    Beans\n",
      "3  0.162333    Bread\n",
      "4  0.162033   Butter\n"
     ]
    }
   ],
   "source": [
    "print(fi.head())"
   ]
  },
  {
   "cell_type": "code",
   "execution_count": 60,
   "id": "a725bef4-2839-4a55-974e-7b6467a29bd7",
   "metadata": {},
   "outputs": [
    {
     "name": "stdout",
     "output_type": "stream",
     "text": [
      "      support            itemsets\n",
      "815  0.027500   Water, Strawberry\n",
      "816  0.026567  Strawberry, Yogurt\n",
      "817  0.025333       Water, Tomato\n",
      "818  0.024967      Tomato, Yogurt\n",
      "819  0.027100       Water, Yogurt\n"
     ]
    }
   ],
   "source": [
    "print(fi.tail())"
   ]
  },
  {
   "cell_type": "code",
   "execution_count": 61,
   "id": "e4e51040-a1ef-4069-9dd1-b82f3c5cb8ae",
   "metadata": {},
   "outputs": [],
   "source": [
    "fi.to_csv(\"data/frequent_itemsets_clean.csv\", index=False)"
   ]
  }
 ],
 "metadata": {
  "kernelspec": {
   "display_name": "Python [conda env:base] *",
   "language": "python",
   "name": "conda-base-py"
  },
  "language_info": {
   "codemirror_mode": {
    "name": "ipython",
    "version": 3
   },
   "file_extension": ".py",
   "mimetype": "text/x-python",
   "name": "python",
   "nbconvert_exporter": "python",
   "pygments_lexer": "ipython3",
   "version": "3.12.7"
  }
 },
 "nbformat": 4,
 "nbformat_minor": 5
}
